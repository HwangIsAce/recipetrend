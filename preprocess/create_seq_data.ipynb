{
 "cells": [
  {
   "cell_type": "code",
   "execution_count": 7,
   "metadata": {},
   "outputs": [],
   "source": [
    "from loguru import logger\n",
    "from tqdm import tqdm\n",
    "import pickle\n",
    "import json"
   ]
  },
  {
   "cell_type": "code",
   "execution_count": 8,
   "metadata": {},
   "outputs": [
    {
     "name": "stderr",
     "output_type": "stream",
     "text": [
      "\u001b[32m2024-03-19 23:46:45.076\u001b[0m | \u001b[1mINFO    \u001b[0m | \u001b[36m__main__\u001b[0m:\u001b[36m<module>\u001b[0m:\u001b[36m4\u001b[0m - \u001b[1moriginal_file_path = /disk1/data/ing_mlm_data/original\u001b[0m\n"
     ]
    }
   ],
   "source": [
    "original_data_path = \"/disk1/data/ing_mlm_data/original\"\n",
    "\n",
    "# log\n",
    "logger.info(f\"original_file_path = {original_data_path}\")\n",
    "\n",
    "with open(f\"{original_data_path}/iids_full.pkl\", \"rb\") as f:\n",
    "    iids_data = pickle.load(f)\n",
    "\n",
    "with open(f\"{original_data_path}/iid2ingr_full.pkl\", \"rb\") as f:\n",
    "    iid2ingr_data = pickle.load(f)\n",
    "\n",
    "with open(f\"{original_data_path}/iid2fgvec_full.pkl\", \"rb\") as f:\n",
    "    iids2fgvec_data = pickle.load(f)\n",
    "\n",
    "with open(f\"{original_data_path}/rid2title.pkl\", \"rb\") as f:\n",
    "    rid2title_data = pickle.load(f)\n",
    "\n",
    "# split info\n",
    "with open(f\"{original_data_path}/rid2info_full.pkl\", \"rb\") as f:\n",
    "    rid2info_full = pickle.load(f)\n",
    "\n",
    "with open(f\"{original_data_path}/rid2sorted_iids_full.pkl\", \"rb\") as f:\n",
    "    rid2sorted_iids_data = pickle.load(f)\n",
    "\n",
    "with open(f\"{original_data_path}/tags.json\", \"rb\") as f:\n",
    "    rid2tags = json.load(f)"
   ]
  },
  {
   "cell_type": "code",
   "execution_count": null,
   "metadata": {},
   "outputs": [],
   "source": []
  },
  {
   "cell_type": "code",
   "execution_count": 28,
   "metadata": {},
   "outputs": [
    {
     "data": {
      "text/html": [
       "<div>\n",
       "<style scoped>\n",
       "    .dataframe tbody tr th:only-of-type {\n",
       "        vertical-align: middle;\n",
       "    }\n",
       "\n",
       "    .dataframe tbody tr th {\n",
       "        vertical-align: top;\n",
       "    }\n",
       "\n",
       "    .dataframe thead th {\n",
       "        text-align: right;\n",
       "    }\n",
       "</style>\n",
       "<table border=\"1\" class=\"dataframe\">\n",
       "  <thead>\n",
       "    <tr style=\"text-align: right;\">\n",
       "      <th></th>\n",
       "      <th>name</th>\n",
       "      <th>id</th>\n",
       "      <th>minutes</th>\n",
       "      <th>contributor_id</th>\n",
       "      <th>submitted</th>\n",
       "      <th>tags</th>\n",
       "      <th>nutrition</th>\n",
       "      <th>n_steps</th>\n",
       "      <th>steps</th>\n",
       "      <th>description</th>\n",
       "      <th>ingredients</th>\n",
       "      <th>n_ingredients</th>\n",
       "    </tr>\n",
       "  </thead>\n",
       "  <tbody>\n",
       "    <tr>\n",
       "      <th>0</th>\n",
       "      <td>arriba   baked winter squash mexican style</td>\n",
       "      <td>137739</td>\n",
       "      <td>55</td>\n",
       "      <td>47892</td>\n",
       "      <td>2005-09-16</td>\n",
       "      <td>['60-minutes-or-less', 'time-to-make', 'course...</td>\n",
       "      <td>[51.5, 0.0, 13.0, 0.0, 2.0, 0.0, 4.0]</td>\n",
       "      <td>11</td>\n",
       "      <td>['make a choice and proceed with recipe', 'dep...</td>\n",
       "      <td>autumn is my favorite time of year to cook! th...</td>\n",
       "      <td>['winter squash', 'mexican seasoning', 'mixed ...</td>\n",
       "      <td>7</td>\n",
       "    </tr>\n",
       "    <tr>\n",
       "      <th>1</th>\n",
       "      <td>a bit different  breakfast pizza</td>\n",
       "      <td>31490</td>\n",
       "      <td>30</td>\n",
       "      <td>26278</td>\n",
       "      <td>2002-06-17</td>\n",
       "      <td>['30-minutes-or-less', 'time-to-make', 'course...</td>\n",
       "      <td>[173.4, 18.0, 0.0, 17.0, 22.0, 35.0, 1.0]</td>\n",
       "      <td>9</td>\n",
       "      <td>['preheat oven to 425 degrees f', 'press dough...</td>\n",
       "      <td>this recipe calls for the crust to be prebaked...</td>\n",
       "      <td>['prepared pizza crust', 'sausage patty', 'egg...</td>\n",
       "      <td>6</td>\n",
       "    </tr>\n",
       "    <tr>\n",
       "      <th>2</th>\n",
       "      <td>all in the kitchen  chili</td>\n",
       "      <td>112140</td>\n",
       "      <td>130</td>\n",
       "      <td>196586</td>\n",
       "      <td>2005-02-25</td>\n",
       "      <td>['time-to-make', 'course', 'preparation', 'mai...</td>\n",
       "      <td>[269.8, 22.0, 32.0, 48.0, 39.0, 27.0, 5.0]</td>\n",
       "      <td>6</td>\n",
       "      <td>['brown ground beef in large pot', 'add choppe...</td>\n",
       "      <td>this modified version of 'mom's' chili was a h...</td>\n",
       "      <td>['ground beef', 'yellow onions', 'diced tomato...</td>\n",
       "      <td>13</td>\n",
       "    </tr>\n",
       "    <tr>\n",
       "      <th>3</th>\n",
       "      <td>alouette  potatoes</td>\n",
       "      <td>59389</td>\n",
       "      <td>45</td>\n",
       "      <td>68585</td>\n",
       "      <td>2003-04-14</td>\n",
       "      <td>['60-minutes-or-less', 'time-to-make', 'course...</td>\n",
       "      <td>[368.1, 17.0, 10.0, 2.0, 14.0, 8.0, 20.0]</td>\n",
       "      <td>11</td>\n",
       "      <td>['place potatoes in a large pot of lightly sal...</td>\n",
       "      <td>this is a super easy, great tasting, make ahea...</td>\n",
       "      <td>['spreadable cheese with garlic and herbs', 'n...</td>\n",
       "      <td>11</td>\n",
       "    </tr>\n",
       "    <tr>\n",
       "      <th>4</th>\n",
       "      <td>amish  tomato ketchup  for canning</td>\n",
       "      <td>44061</td>\n",
       "      <td>190</td>\n",
       "      <td>41706</td>\n",
       "      <td>2002-10-25</td>\n",
       "      <td>['weeknight', 'time-to-make', 'course', 'main-...</td>\n",
       "      <td>[352.9, 1.0, 337.0, 23.0, 3.0, 0.0, 28.0]</td>\n",
       "      <td>5</td>\n",
       "      <td>['mix all ingredients&amp; boil for 2 1 / 2 hours ...</td>\n",
       "      <td>my dh's amish mother raised him on this recipe...</td>\n",
       "      <td>['tomato juice', 'apple cider vinegar', 'sugar...</td>\n",
       "      <td>8</td>\n",
       "    </tr>\n",
       "  </tbody>\n",
       "</table>\n",
       "</div>"
      ],
      "text/plain": [
       "                                         name      id  minutes  \\\n",
       "0  arriba   baked winter squash mexican style  137739       55   \n",
       "1            a bit different  breakfast pizza   31490       30   \n",
       "2                   all in the kitchen  chili  112140      130   \n",
       "3                          alouette  potatoes   59389       45   \n",
       "4          amish  tomato ketchup  for canning   44061      190   \n",
       "\n",
       "   contributor_id   submitted  \\\n",
       "0           47892  2005-09-16   \n",
       "1           26278  2002-06-17   \n",
       "2          196586  2005-02-25   \n",
       "3           68585  2003-04-14   \n",
       "4           41706  2002-10-25   \n",
       "\n",
       "                                                tags  \\\n",
       "0  ['60-minutes-or-less', 'time-to-make', 'course...   \n",
       "1  ['30-minutes-or-less', 'time-to-make', 'course...   \n",
       "2  ['time-to-make', 'course', 'preparation', 'mai...   \n",
       "3  ['60-minutes-or-less', 'time-to-make', 'course...   \n",
       "4  ['weeknight', 'time-to-make', 'course', 'main-...   \n",
       "\n",
       "                                    nutrition  n_steps  \\\n",
       "0       [51.5, 0.0, 13.0, 0.0, 2.0, 0.0, 4.0]       11   \n",
       "1   [173.4, 18.0, 0.0, 17.0, 22.0, 35.0, 1.0]        9   \n",
       "2  [269.8, 22.0, 32.0, 48.0, 39.0, 27.0, 5.0]        6   \n",
       "3   [368.1, 17.0, 10.0, 2.0, 14.0, 8.0, 20.0]       11   \n",
       "4   [352.9, 1.0, 337.0, 23.0, 3.0, 0.0, 28.0]        5   \n",
       "\n",
       "                                               steps  \\\n",
       "0  ['make a choice and proceed with recipe', 'dep...   \n",
       "1  ['preheat oven to 425 degrees f', 'press dough...   \n",
       "2  ['brown ground beef in large pot', 'add choppe...   \n",
       "3  ['place potatoes in a large pot of lightly sal...   \n",
       "4  ['mix all ingredients& boil for 2 1 / 2 hours ...   \n",
       "\n",
       "                                         description  \\\n",
       "0  autumn is my favorite time of year to cook! th...   \n",
       "1  this recipe calls for the crust to be prebaked...   \n",
       "2  this modified version of 'mom's' chili was a h...   \n",
       "3  this is a super easy, great tasting, make ahea...   \n",
       "4  my dh's amish mother raised him on this recipe...   \n",
       "\n",
       "                                         ingredients  n_ingredients  \n",
       "0  ['winter squash', 'mexican seasoning', 'mixed ...              7  \n",
       "1  ['prepared pizza crust', 'sausage patty', 'egg...              6  \n",
       "2  ['ground beef', 'yellow onions', 'diced tomato...             13  \n",
       "3  ['spreadable cheese with garlic and herbs', 'n...             11  \n",
       "4  ['tomato juice', 'apple cider vinegar', 'sugar...              8  "
      ]
     },
     "execution_count": 28,
     "metadata": {},
     "output_type": "execute_result"
    }
   ],
   "source": [
    "import pandas as pd\n",
    "\n",
    "food = pd.read_csv('/disk1/data/Food.com/RAW_recipes.csv')\n",
    "food.head()"
   ]
  },
  {
   "cell_type": "code",
   "execution_count": 473,
   "metadata": {},
   "outputs": [
    {
     "name": "stdout",
     "output_type": "stream",
     "text": [
      "['brown ground beef in large pot', 'add chopped onions to ground beef when almost brown and sautee until wilted', 'add all other ingredients', 'add kidney beans if you like beans in your chili', 'cook in slow cooker on high for 2-3 hours or 6-8 hours on low', 'serve with cold clean lettuce and shredded cheese']\n",
      "['winter squash', 'mexican seasoning', 'mixed spice', 'honey', 'butter', 'olive oil', 'salt']\n"
     ]
    }
   ],
   "source": [
    "print(food['steps'][2])\n",
    "print(food['ingredients'][0])\n"
   ]
  },
  {
   "cell_type": "code",
   "execution_count": null,
   "metadata": {},
   "outputs": [],
   "source": []
  },
  {
   "cell_type": "code",
   "execution_count": 10,
   "metadata": {},
   "outputs": [],
   "source": [
    "from transformers import AutoTokenizer, AutoModelForTokenClassification\n",
    "from transformers import pipeline\n",
    "\n",
    "tokenizer = AutoTokenizer.from_pretrained(\"Dizex/FoodBaseBERT\")\n",
    "model = AutoModelForTokenClassification.from_pretrained(\"Dizex/FoodBaseBERT\")\n",
    "\n",
    "pipe = pipeline(\"ner\", model=model, tokenizer=tokenizer)\n"
   ]
  },
  {
   "cell_type": "code",
   "execution_count": 52,
   "metadata": {},
   "outputs": [
    {
     "name": "stdout",
     "output_type": "stream",
     "text": [
      "[{'entity': 'B-FOOD', 'score': 0.9972826, 'index': 4, 'word': 'eggs', 'start': 6, 'end': 10}, {'entity': 'B-FOOD', 'score': 0.99657214, 'index': 6, 'word': 'milk', 'start': 15, 'end': 19}]\n",
      "\n",
      "{'entity': 'B-FOOD', 'score': 0.9972826, 'index': 4, 'word': 'eggs', 'start': 6, 'end': 10}\n",
      "eggs\n",
      "{'entity': 'B-FOOD', 'score': 0.99657214, 'index': 6, 'word': 'milk', 'start': 15, 'end': 19}\n",
      "milk\n"
     ]
    }
   ],
   "source": [
    "## test code\n",
    "ner_entity_results = pipe(eval(food['steps'][1])[4])\n",
    "print(ner_entity_results)\n",
    "print('')\n",
    "\n",
    "for i, v in enumerate(ner_entity_results):\n",
    "    print(v)\n",
    "    print(v['word'])"
   ]
  },
  {
   "cell_type": "code",
   "execution_count": 265,
   "metadata": {},
   "outputs": [
    {
     "name": "stderr",
     "output_type": "stream",
     "text": [
      "100%|██████████| 10000/10000 [1:16:54<00:00,  2.17it/s]\n"
     ]
    }
   ],
   "source": [
    "from tqdm import tqdm\n",
    "recipe_seq = []\n",
    "# cnt = 0\n",
    "for steps in tqdm(food['steps'][:10000]):\n",
    "    steps = eval(steps)\n",
    "    # print(steps)\n",
    "    recipe_seq_tmp2 = []\n",
    "    for step in steps:\n",
    "        ner_entity_results = pipe(step)\n",
    "        # print(ner_entity_results)\n",
    "        recipe_seq_tmp1 = []\n",
    "        for v in ner_entity_results:\n",
    "            # print(v['word'])\n",
    "            recipe_seq_tmp1.append(v['word'])\n",
    "        recipe_seq_tmp2.append(recipe_seq_tmp1)\n",
    "        # print('')\n",
    "    recipe_seq.append(recipe_seq_tmp2)\n",
    "    # cnt +=1\n",
    "    # if cnt > 1 : break\n",
    "\n"
   ]
  },
  {
   "cell_type": "code",
   "execution_count": 267,
   "metadata": {},
   "outputs": [],
   "source": [
    "# temp save\n",
    "recipe_seq_save = [str(n) for n in recipe_seq]\n",
    "import pandas as pd\n",
    "recipe_seq_df = pd.DataFrame(recipe_seq_save)\n",
    "recipe_seq_df.to_csv(\"/home/jaesung/jaesung/research/recipetrend/preprocess/recipe_seq_10K\")"
   ]
  },
  {
   "cell_type": "code",
   "execution_count": 268,
   "metadata": {},
   "outputs": [
    {
     "name": "stdout",
     "output_type": "stream",
     "text": [
      "[[], ['squash'], ['seeds'], ['s', '##pic', '##y', 'squash', 'olive', 'oil', 'melted', 'butter', 'cut', 'squash', 'piece'], ['me', '##xi', '##can', 'season', '##ing', 'mix'], ['sweet', 'squash', 'melted', 'honey', 'butter', 'g', '##rated', 'p', '##ilon', '##ci', '##llo', 'cut', 'squash'], ['sweet', 'me', '##xi', '##can', 's', '##pice'], ['skin'], ['squash', 'especially', 'sugar', 'butter'], ['squash'], ['salt']]\n",
      "[[], ['dough'], [], ['sa', '##usage'], ['eggs', 'milk'], ['sa', '##usage', 'baked', 'crust', 'cheese'], ['egg', 'mixture', 'sa', '##usage', 'cheese'], [], ['eggs', 'crust']]\n"
     ]
    }
   ],
   "source": [
    "print(recipe_seq[0])\n",
    "print(recipe_seq[1])"
   ]
  },
  {
   "cell_type": "code",
   "execution_count": 269,
   "metadata": {},
   "outputs": [],
   "source": [
    "refac_recipe_seq = []\n",
    "for seq in recipe_seq:\n",
    "    refac_recipe_seq.append([n for n in seq if len(n)!=0])"
   ]
  },
  {
   "cell_type": "code",
   "execution_count": 270,
   "metadata": {},
   "outputs": [
    {
     "name": "stdout",
     "output_type": "stream",
     "text": [
      "[['squash'], ['seeds'], ['s', '##pic', '##y', 'squash', 'olive', 'oil', 'melted', 'butter', 'cut', 'squash', 'piece'], ['me', '##xi', '##can', 'season', '##ing', 'mix'], ['sweet', 'squash', 'melted', 'honey', 'butter', 'g', '##rated', 'p', '##ilon', '##ci', '##llo', 'cut', 'squash'], ['sweet', 'me', '##xi', '##can', 's', '##pice'], ['skin'], ['squash', 'especially', 'sugar', 'butter'], ['squash'], ['salt']]\n",
      "[['dough'], ['sa', '##usage'], ['eggs', 'milk'], ['sa', '##usage', 'baked', 'crust', 'cheese'], ['egg', 'mixture', 'sa', '##usage', 'cheese'], ['eggs', 'crust']]\n"
     ]
    }
   ],
   "source": [
    "print(refac_recipe_seq[0])\n",
    "print(refac_recipe_seq[1])"
   ]
  },
  {
   "cell_type": "code",
   "execution_count": 273,
   "metadata": {},
   "outputs": [
    {
     "name": "stderr",
     "output_type": "stream",
     "text": [
      "100%|██████████| 10000/10000 [00:07<00:00, 1381.37it/s]\n"
     ]
    }
   ],
   "source": [
    "preprocessed_recipe_seq = []\n",
    "# cnt = 0\n",
    "for seq in tqdm(refac_recipe_seq):\n",
    "    preprocessed_recipe_seq_temp2 = []\n",
    "    for s in seq:\n",
    "        # print(s)\n",
    "        preprocessed_recipe_seq_temp1 = []\n",
    "        for ss in s:\n",
    "            # print(ss)\n",
    "            tt = tokenizer(ss)\n",
    "            # rint(tt['input_ids'])\n",
    "            for t in tt['input_ids']:\n",
    "                if (t != 0) and (t != 101) and (t != 102) and (t != 103):\n",
    "                    # print(t)\n",
    "                    preprocessed_recipe_seq_temp1.append(t)\n",
    "        preprocessed_recipe_seq_temp2.append(preprocessed_recipe_seq_temp1)\n",
    "        # print('')\n",
    "    # print(seq)\n",
    "    preprocessed_recipe_seq.append(preprocessed_recipe_seq_temp2)\n",
    "    # print('')\n",
    "    # cnt += 1\n",
    "    # if cnt > 1 : break"
   ]
  },
  {
   "cell_type": "code",
   "execution_count": 274,
   "metadata": {},
   "outputs": [
    {
     "name": "stdout",
     "output_type": "stream",
     "text": [
      "[[18794], [8079], [1055, 1001, 1001, 27263, 1001, 1001, 1061, 18794, 9724, 3514, 12501, 12136, 3013, 18794, 3538], [2033, 1001, 1001, 8418, 1001, 1001, 2064, 2161, 1001, 1001, 13749, 4666], [4086, 18794, 12501, 6861, 12136, 1043, 1001, 1001, 6758, 1052, 1001, 1001, 6335, 2239, 1001, 1001, 25022, 1001, 1001, 2222, 2080, 3013, 18794], [4086, 2033, 1001, 1001, 8418, 1001, 1001, 2064, 1055, 1001, 1001, 27263, 2063], [3096], [18794, 2926, 5699, 12136], [18794], [5474]]\n",
      "[[23126], [7842, 1001, 1001, 8192], [6763, 6501], [7842, 1001, 1001, 8192, 17776, 19116, 8808], [8288, 8150, 7842, 1001, 1001, 8192, 8808], [6763, 19116]]\n"
     ]
    }
   ],
   "source": [
    "print(preprocessed_recipe_seq[0])\n",
    "print(preprocessed_recipe_seq[1])"
   ]
  },
  {
   "cell_type": "code",
   "execution_count": 275,
   "metadata": {},
   "outputs": [],
   "source": [
    "# cnt = 0\n",
    "tmp = []\n",
    "for seq_id in preprocessed_recipe_seq:\n",
    "    # print(seq_id)\n",
    "    tmp1 = []\n",
    "    for seq in seq_id :\n",
    "        # print(seq)\n",
    "\n",
    "        final_recipe_seq = tokenizer.decode(seq)\n",
    "        tmp1.append(final_recipe_seq)\n",
    "    tmp.append(tmp1)\n",
    "    # cnt += 1\n",
    "    # if cnt > 1 : break"
   ]
  },
  {
   "cell_type": "code",
   "execution_count": 276,
   "metadata": {},
   "outputs": [],
   "source": [
    "# cnt = 0\n",
    "temp = []\n",
    "for t in tmp:\n",
    "    # print(t)\n",
    "    temp1 = []\n",
    "    for tt in t :\n",
    "        # print(tt.replace(' # # ' ,''))\n",
    "        temp1.append(tt.replace(' # # ', ''))\n",
    "    temp.append(temp1)\n",
    "\n",
    "    # cnt += 1\n",
    "    # if cnt > 1 :break"
   ]
  },
  {
   "cell_type": "code",
   "execution_count": 279,
   "metadata": {},
   "outputs": [],
   "source": [
    "temp = [str(n) for n in temp]\n",
    "\n",
    "temp_df = pd.DataFrame(temp)\n",
    "temp_df.to_csv('/home/jaesung/jaesung/research/recipetrend/preprocess/recipe_seq_10K.csv')"
   ]
  },
  {
   "cell_type": "code",
   "execution_count": null,
   "metadata": {},
   "outputs": [],
   "source": [
    "## finish"
   ]
  },
  {
   "cell_type": "code",
   "execution_count": 287,
   "metadata": {},
   "outputs": [],
   "source": [
    "f10k = pd.concat([food[:10000],temp_df], axis=1)\n",
    "f10k.rename(columns={0:'sequence'}, inplace=True)"
   ]
  },
  {
   "cell_type": "code",
   "execution_count": 474,
   "metadata": {},
   "outputs": [
    {
     "data": {
      "text/plain": [
       "[[0, 'winter squash'],\n",
       " [2, 'olive oil'],\n",
       " [3, 'mexican seasoning'],\n",
       " [5, 'mixed spice'],\n",
       " [6, 'honey'],\n",
       " [7, 'butter'],\n",
       " [9, 'salt']]"
      ]
     },
     "execution_count": 474,
     "metadata": {},
     "output_type": "execute_result"
    }
   ],
   "source": [
    "f10k['new_sequence'][0]"
   ]
  },
  {
   "cell_type": "code",
   "execution_count": 294,
   "metadata": {},
   "outputs": [
    {
     "name": "stdout",
     "output_type": "stream",
     "text": [
      "['winter squash', 'mexican seasoning', 'mixed spice', 'honey', 'butter', 'olive oil', 'salt']\n",
      "['squash', 'seeds', 'spicy squash olive oil melted butter cut squash piece', 'mexican seasoning mix', 'sweet squash melted honey butter grated piloncillo cut squash', 'sweet mexican spice', 'skin', 'squash especially sugar butter', 'squash', 'salt']\n",
      "<class 'str'>\n",
      "<class 'str'>\n"
     ]
    }
   ],
   "source": [
    "print(f10k['ingredients'][0])\n",
    "print(f10k['sequence'][0])\n",
    "print(type(f10k['ingredients'][0]))\n",
    "print(type(f10k['sequence'][0]))"
   ]
  },
  {
   "cell_type": "code",
   "execution_count": 292,
   "metadata": {},
   "outputs": [],
   "source": [
    "import difflib"
   ]
  },
  {
   "cell_type": "code",
   "execution_count": 314,
   "metadata": {},
   "outputs": [],
   "source": [
    "cnt = 0\n",
    "\n",
    "new_seq = []\n",
    "for j in range(10000):\n",
    "    new_seq_tmp = []\n",
    "    for _set in eval(f10k['ingredients'][j]):\n",
    "        max = -1000; most_sim = ''; most_sim_idx = 0\n",
    "        for i, _seq in enumerate(eval(f10k['sequence'][j])):\n",
    "            # print(_set)\n",
    "            # print(_seq)\n",
    "            answer_bytes = bytes(_set, 'utf-8')\n",
    "            input_bytes = bytes(_seq, 'utf-8')\n",
    "            answer_bytes_list = list(answer_bytes)\n",
    "            input_bytes_list = list(input_bytes)\n",
    "\n",
    "            sm = difflib.SequenceMatcher(None, answer_bytes_list, input_bytes_list)\n",
    "            similar = sm.ratio()\n",
    "\n",
    "            if similar > max:\n",
    "                max = similar\n",
    "                most_sim = _seq\n",
    "                most_sim_idx = i\n",
    "            # print(similar)\n",
    "        new_seq_tmp.append([most_sim_idx, _set])\n",
    "        # print(most_sim)\n",
    "        #print(max)\n",
    "        # print(most_sim_idx)\n",
    "    new_seq.append(new_seq_tmp)\n",
    "\n",
    "        # cnt += 1\n",
    "        # if cnt > 0 : break\n"
   ]
  },
  {
   "cell_type": "code",
   "execution_count": 322,
   "metadata": {},
   "outputs": [],
   "source": [
    "for v in new_seq:\n",
    "    v.sort(key=lambda a: a[0])"
   ]
  },
  {
   "cell_type": "code",
   "execution_count": 327,
   "metadata": {},
   "outputs": [],
   "source": [
    "f10k['new_sequence'] = new_seq"
   ]
  },
  {
   "cell_type": "code",
   "execution_count": 328,
   "metadata": {},
   "outputs": [
    {
     "data": {
      "text/html": [
       "<div>\n",
       "<style scoped>\n",
       "    .dataframe tbody tr th:only-of-type {\n",
       "        vertical-align: middle;\n",
       "    }\n",
       "\n",
       "    .dataframe tbody tr th {\n",
       "        vertical-align: top;\n",
       "    }\n",
       "\n",
       "    .dataframe thead th {\n",
       "        text-align: right;\n",
       "    }\n",
       "</style>\n",
       "<table border=\"1\" class=\"dataframe\">\n",
       "  <thead>\n",
       "    <tr style=\"text-align: right;\">\n",
       "      <th></th>\n",
       "      <th>name</th>\n",
       "      <th>id</th>\n",
       "      <th>minutes</th>\n",
       "      <th>contributor_id</th>\n",
       "      <th>submitted</th>\n",
       "      <th>tags</th>\n",
       "      <th>nutrition</th>\n",
       "      <th>n_steps</th>\n",
       "      <th>steps</th>\n",
       "      <th>description</th>\n",
       "      <th>ingredients</th>\n",
       "      <th>n_ingredients</th>\n",
       "      <th>sequence</th>\n",
       "      <th>new_sequence</th>\n",
       "    </tr>\n",
       "  </thead>\n",
       "  <tbody>\n",
       "    <tr>\n",
       "      <th>0</th>\n",
       "      <td>arriba   baked winter squash mexican style</td>\n",
       "      <td>137739</td>\n",
       "      <td>55</td>\n",
       "      <td>47892</td>\n",
       "      <td>2005-09-16</td>\n",
       "      <td>['60-minutes-or-less', 'time-to-make', 'course...</td>\n",
       "      <td>[51.5, 0.0, 13.0, 0.0, 2.0, 0.0, 4.0]</td>\n",
       "      <td>11</td>\n",
       "      <td>['make a choice and proceed with recipe', 'dep...</td>\n",
       "      <td>autumn is my favorite time of year to cook! th...</td>\n",
       "      <td>['winter squash', 'mexican seasoning', 'mixed ...</td>\n",
       "      <td>7</td>\n",
       "      <td>['squash', 'seeds', 'spicy squash olive oil me...</td>\n",
       "      <td>[[0, winter squash], [2, olive oil], [3, mexic...</td>\n",
       "    </tr>\n",
       "    <tr>\n",
       "      <th>1</th>\n",
       "      <td>a bit different  breakfast pizza</td>\n",
       "      <td>31490</td>\n",
       "      <td>30</td>\n",
       "      <td>26278</td>\n",
       "      <td>2002-06-17</td>\n",
       "      <td>['30-minutes-or-less', 'time-to-make', 'course...</td>\n",
       "      <td>[173.4, 18.0, 0.0, 17.0, 22.0, 35.0, 1.0]</td>\n",
       "      <td>9</td>\n",
       "      <td>['preheat oven to 425 degrees f', 'press dough...</td>\n",
       "      <td>this recipe calls for the crust to be prebaked...</td>\n",
       "      <td>['prepared pizza crust', 'sausage patty', 'egg...</td>\n",
       "      <td>6</td>\n",
       "      <td>['dough', 'sausage', 'eggs milk', 'sausage bak...</td>\n",
       "      <td>[[1, sausage patty], [1, salt and pepper], [2,...</td>\n",
       "    </tr>\n",
       "    <tr>\n",
       "      <th>2</th>\n",
       "      <td>all in the kitchen  chili</td>\n",
       "      <td>112140</td>\n",
       "      <td>130</td>\n",
       "      <td>196586</td>\n",
       "      <td>2005-02-25</td>\n",
       "      <td>['time-to-make', 'course', 'preparation', 'mai...</td>\n",
       "      <td>[269.8, 22.0, 32.0, 48.0, 39.0, 27.0, 5.0]</td>\n",
       "      <td>6</td>\n",
       "      <td>['brown ground beef in large pot', 'add choppe...</td>\n",
       "      <td>this modified version of 'mom's' chili was a h...</td>\n",
       "      <td>['ground beef', 'yellow onions', 'diced tomato...</td>\n",
       "      <td>13</td>\n",
       "      <td>['ground beef', 'chopped onions ground beef', ...</td>\n",
       "      <td>[[0, ground beef], [0, tomato paste], [0, rote...</td>\n",
       "    </tr>\n",
       "    <tr>\n",
       "      <th>3</th>\n",
       "      <td>alouette  potatoes</td>\n",
       "      <td>59389</td>\n",
       "      <td>45</td>\n",
       "      <td>68585</td>\n",
       "      <td>2003-04-14</td>\n",
       "      <td>['60-minutes-or-less', 'time-to-make', 'course...</td>\n",
       "      <td>[368.1, 17.0, 10.0, 2.0, 14.0, 8.0, 20.0]</td>\n",
       "      <td>11</td>\n",
       "      <td>['place potatoes in a large pot of lightly sal...</td>\n",
       "      <td>this is a super easy, great tasting, make ahea...</td>\n",
       "      <td>['spreadable cheese with garlic and herbs', 'n...</td>\n",
       "      <td>11</td>\n",
       "      <td>['potatoes salted water', 'potatoes', 'potatoe...</td>\n",
       "      <td>[[0, spreadable cheese with garlic and herbs],...</td>\n",
       "    </tr>\n",
       "    <tr>\n",
       "      <th>4</th>\n",
       "      <td>amish  tomato ketchup  for canning</td>\n",
       "      <td>44061</td>\n",
       "      <td>190</td>\n",
       "      <td>41706</td>\n",
       "      <td>2002-10-25</td>\n",
       "      <td>['weeknight', 'time-to-make', 'course', 'main-...</td>\n",
       "      <td>[352.9, 1.0, 337.0, 23.0, 3.0, 0.0, 28.0]</td>\n",
       "      <td>5</td>\n",
       "      <td>['mix all ingredients&amp; boil for 2 1 / 2 hours ...</td>\n",
       "      <td>my dh's amish mother raised him on this recipe...</td>\n",
       "      <td>['tomato juice', 'apple cider vinegar', 'sugar...</td>\n",
       "      <td>8</td>\n",
       "      <td>['ketchup']</td>\n",
       "      <td>[[0, tomato juice], [0, apple cider vinegar], ...</td>\n",
       "    </tr>\n",
       "  </tbody>\n",
       "</table>\n",
       "</div>"
      ],
      "text/plain": [
       "                                         name      id  minutes  \\\n",
       "0  arriba   baked winter squash mexican style  137739       55   \n",
       "1            a bit different  breakfast pizza   31490       30   \n",
       "2                   all in the kitchen  chili  112140      130   \n",
       "3                          alouette  potatoes   59389       45   \n",
       "4          amish  tomato ketchup  for canning   44061      190   \n",
       "\n",
       "   contributor_id   submitted  \\\n",
       "0           47892  2005-09-16   \n",
       "1           26278  2002-06-17   \n",
       "2          196586  2005-02-25   \n",
       "3           68585  2003-04-14   \n",
       "4           41706  2002-10-25   \n",
       "\n",
       "                                                tags  \\\n",
       "0  ['60-minutes-or-less', 'time-to-make', 'course...   \n",
       "1  ['30-minutes-or-less', 'time-to-make', 'course...   \n",
       "2  ['time-to-make', 'course', 'preparation', 'mai...   \n",
       "3  ['60-minutes-or-less', 'time-to-make', 'course...   \n",
       "4  ['weeknight', 'time-to-make', 'course', 'main-...   \n",
       "\n",
       "                                    nutrition  n_steps  \\\n",
       "0       [51.5, 0.0, 13.0, 0.0, 2.0, 0.0, 4.0]       11   \n",
       "1   [173.4, 18.0, 0.0, 17.0, 22.0, 35.0, 1.0]        9   \n",
       "2  [269.8, 22.0, 32.0, 48.0, 39.0, 27.0, 5.0]        6   \n",
       "3   [368.1, 17.0, 10.0, 2.0, 14.0, 8.0, 20.0]       11   \n",
       "4   [352.9, 1.0, 337.0, 23.0, 3.0, 0.0, 28.0]        5   \n",
       "\n",
       "                                               steps  \\\n",
       "0  ['make a choice and proceed with recipe', 'dep...   \n",
       "1  ['preheat oven to 425 degrees f', 'press dough...   \n",
       "2  ['brown ground beef in large pot', 'add choppe...   \n",
       "3  ['place potatoes in a large pot of lightly sal...   \n",
       "4  ['mix all ingredients& boil for 2 1 / 2 hours ...   \n",
       "\n",
       "                                         description  \\\n",
       "0  autumn is my favorite time of year to cook! th...   \n",
       "1  this recipe calls for the crust to be prebaked...   \n",
       "2  this modified version of 'mom's' chili was a h...   \n",
       "3  this is a super easy, great tasting, make ahea...   \n",
       "4  my dh's amish mother raised him on this recipe...   \n",
       "\n",
       "                                         ingredients  n_ingredients  \\\n",
       "0  ['winter squash', 'mexican seasoning', 'mixed ...              7   \n",
       "1  ['prepared pizza crust', 'sausage patty', 'egg...              6   \n",
       "2  ['ground beef', 'yellow onions', 'diced tomato...             13   \n",
       "3  ['spreadable cheese with garlic and herbs', 'n...             11   \n",
       "4  ['tomato juice', 'apple cider vinegar', 'sugar...              8   \n",
       "\n",
       "                                            sequence  \\\n",
       "0  ['squash', 'seeds', 'spicy squash olive oil me...   \n",
       "1  ['dough', 'sausage', 'eggs milk', 'sausage bak...   \n",
       "2  ['ground beef', 'chopped onions ground beef', ...   \n",
       "3  ['potatoes salted water', 'potatoes', 'potatoe...   \n",
       "4                                        ['ketchup']   \n",
       "\n",
       "                                        new_sequence  \n",
       "0  [[0, winter squash], [2, olive oil], [3, mexic...  \n",
       "1  [[1, sausage patty], [1, salt and pepper], [2,...  \n",
       "2  [[0, ground beef], [0, tomato paste], [0, rote...  \n",
       "3  [[0, spreadable cheese with garlic and herbs],...  \n",
       "4  [[0, tomato juice], [0, apple cider vinegar], ...  "
      ]
     },
     "execution_count": 328,
     "metadata": {},
     "output_type": "execute_result"
    }
   ],
   "source": [
    "f10k.head()"
   ]
  },
  {
   "cell_type": "code",
   "execution_count": null,
   "metadata": {},
   "outputs": [],
   "source": [
    "## to make txt file"
   ]
  },
  {
   "cell_type": "code",
   "execution_count": null,
   "metadata": {},
   "outputs": [],
   "source": [
    "## set"
   ]
  },
  {
   "cell_type": "code",
   "execution_count": 330,
   "metadata": {},
   "outputs": [],
   "source": [
    "f10k_set = f10k['ingredients']"
   ]
  },
  {
   "cell_type": "code",
   "execution_count": 402,
   "metadata": {},
   "outputs": [],
   "source": [
    "cnt = 0\n",
    "tmp = []\n",
    "for v in f10k_set:\n",
    "    tmp1 = []\n",
    "    for u in eval(v):\n",
    "        u = u.replace(' ', '_')\n",
    "        tmp1.append(u)\n",
    "    tmp.append(tmp1)\n",
    "\n",
    "    "
   ]
  },
  {
   "cell_type": "code",
   "execution_count": 403,
   "metadata": {},
   "outputs": [],
   "source": [
    "cnt = 0 \n",
    "\n",
    "temp = []\n",
    "for t in tmp:\n",
    "    temp.append(' '.join(t))"
   ]
  },
  {
   "cell_type": "code",
   "execution_count": 416,
   "metadata": {},
   "outputs": [
    {
     "name": "stderr",
     "output_type": "stream",
     "text": [
      "/tmp/ipykernel_3480816/3894532314.py:3: SettingWithCopyWarning: \n",
      "A value is trying to be set on a copy of a slice from a DataFrame.\n",
      "Try using .loc[row_indexer,col_indexer] = value instead\n",
      "\n",
      "See the caveats in the documentation: https://pandas.pydata.org/pandas-docs/stable/user_guide/indexing.html#returning-a-view-versus-a-copy\n",
      "  tn['tags'] = tn['tags'].apply(lambda x: eval(x))\n",
      "/tmp/ipykernel_3480816/3894532314.py:4: SettingWithCopyWarning: \n",
      "A value is trying to be set on a copy of a slice from a DataFrame.\n",
      "Try using .loc[row_indexer,col_indexer] = value instead\n",
      "\n",
      "See the caveats in the documentation: https://pandas.pydata.org/pandas-docs/stable/user_guide/indexing.html#returning-a-view-versus-a-copy\n",
      "  tn['tags'] = tn['tags'].apply(lambda x: ' '.join(x))\n"
     ]
    }
   ],
   "source": [
    "tn = f10k[['tags', 'name']]\n",
    "\n",
    "tn['tags'] = tn['tags'].apply(lambda x: eval(x))\n",
    "tn['tags'] = tn['tags'].apply(lambda x: ' '.join(x))"
   ]
  },
  {
   "cell_type": "code",
   "execution_count": 417,
   "metadata": {},
   "outputs": [],
   "source": [
    "tn.insert(0, 'recipe_set', temp)"
   ]
  },
  {
   "cell_type": "code",
   "execution_count": 419,
   "metadata": {},
   "outputs": [
    {
     "name": "stderr",
     "output_type": "stream",
     "text": [
      "/tmp/ipykernel_3480816/3861825294.py:1: SettingWithCopyWarning: \n",
      "A value is trying to be set on a copy of a slice from a DataFrame.\n",
      "Try using .loc[row_indexer,col_indexer] = value instead\n",
      "\n",
      "See the caveats in the documentation: https://pandas.pydata.org/pandas-docs/stable/user_guide/indexing.html#returning-a-view-versus-a-copy\n",
      "  tn['new_set'] = tn['recipe_set'] + \"[SEP]\" + tn['tags'] + \"[SEP]\" + tn['name']\n"
     ]
    }
   ],
   "source": [
    "tn['new_set'] = tn['recipe_set'] + \"[SEP]\" + tn['tags'] + \"[SEP]\" + tn['name']"
   ]
  },
  {
   "cell_type": "code",
   "execution_count": 432,
   "metadata": {},
   "outputs": [
    {
     "name": "stderr",
     "output_type": "stream",
     "text": [
      "/tmp/ipykernel_3480816/3544343899.py:1: SettingWithCopyWarning: \n",
      "A value is trying to be set on a copy of a slice from a DataFrame.\n",
      "Try using .loc[row_indexer,col_indexer] = value instead\n",
      "\n",
      "See the caveats in the documentation: https://pandas.pydata.org/pandas-docs/stable/user_guide/indexing.html#returning-a-view-versus-a-copy\n",
      "  tn['new_set'] = tn['new_set'].apply(lambda x: str(x))\n"
     ]
    }
   ],
   "source": [
    "tn['new_set'] = tn['new_set'].apply(lambda x: str(x))"
   ]
  },
  {
   "cell_type": "code",
   "execution_count": null,
   "metadata": {},
   "outputs": [],
   "source": []
  },
  {
   "cell_type": "code",
   "execution_count": 434,
   "metadata": {},
   "outputs": [],
   "source": [
    "# train\n",
    "f = open('/home/jaesung/jaesung/research/recipetrend/preprocess/f10k_set_train.txt', '+w')\n",
    "\n",
    "for v in tn['new_set'][:9000]:\n",
    "    f.write(v+'\\n')\n"
   ]
  },
  {
   "cell_type": "code",
   "execution_count": 435,
   "metadata": {},
   "outputs": [],
   "source": [
    "# val\n",
    "f = open('/home/jaesung/jaesung/research/recipetrend/preprocess/f10k_set_val.txt', '+w')\n",
    "\n",
    "for v in tn['new_set'][9000:]:\n",
    "    f.write(v+'\\n')"
   ]
  },
  {
   "cell_type": "code",
   "execution_count": null,
   "metadata": {},
   "outputs": [],
   "source": [
    "## seq"
   ]
  },
  {
   "cell_type": "code",
   "execution_count": 345,
   "metadata": {},
   "outputs": [],
   "source": [
    "f10k_seq = f10k['new_sequence']"
   ]
  },
  {
   "cell_type": "code",
   "execution_count": 444,
   "metadata": {},
   "outputs": [],
   "source": [
    "cnt = 0\n",
    "tmp = []\n",
    "for v in f10k_seq:\n",
    "    tmp1 = []\n",
    "    for u in v:\n",
    "        tmp1.append(u[1])\n",
    "    tmp.append(tmp1)\n",
    "    # cnt += 1\n",
    "    # if cnt > 3 : break"
   ]
  },
  {
   "cell_type": "code",
   "execution_count": 445,
   "metadata": {},
   "outputs": [],
   "source": [
    "tmp2 = []\n",
    "for v in tmp:\n",
    "    tmp1 = []\n",
    "    for u in v:\n",
    "        u = u.replace(' ', '_')\n",
    "        tmp1.append(u)\n",
    "    tmp2.append(tmp1)\n"
   ]
  },
  {
   "cell_type": "code",
   "execution_count": 461,
   "metadata": {},
   "outputs": [],
   "source": [
    "cnt = 0 \n",
    "\n",
    "temp = []\n",
    "for t in tmp2:\n",
    "    temp.append(' '.join(t))"
   ]
  },
  {
   "cell_type": "code",
   "execution_count": 462,
   "metadata": {},
   "outputs": [
    {
     "name": "stderr",
     "output_type": "stream",
     "text": [
      "/tmp/ipykernel_3480816/3814154758.py:3: SettingWithCopyWarning: \n",
      "A value is trying to be set on a copy of a slice from a DataFrame.\n",
      "Try using .loc[row_indexer,col_indexer] = value instead\n",
      "\n",
      "See the caveats in the documentation: https://pandas.pydata.org/pandas-docs/stable/user_guide/indexing.html#returning-a-view-versus-a-copy\n",
      "  tn2['tags'] = tn2['tags'].apply(lambda x: eval(x))\n",
      "/tmp/ipykernel_3480816/3814154758.py:4: SettingWithCopyWarning: \n",
      "A value is trying to be set on a copy of a slice from a DataFrame.\n",
      "Try using .loc[row_indexer,col_indexer] = value instead\n",
      "\n",
      "See the caveats in the documentation: https://pandas.pydata.org/pandas-docs/stable/user_guide/indexing.html#returning-a-view-versus-a-copy\n",
      "  tn2['tags'] = tn2['tags'].apply(lambda x: ' '.join(x))\n"
     ]
    }
   ],
   "source": [
    "tn2 = f10k[['tags', 'name']]\n",
    "\n",
    "tn2['tags'] = tn2['tags'].apply(lambda x: eval(x))\n",
    "tn2['tags'] = tn2['tags'].apply(lambda x: ' '.join(x))"
   ]
  },
  {
   "cell_type": "code",
   "execution_count": 464,
   "metadata": {},
   "outputs": [],
   "source": [
    "\n",
    "tn2.insert(0, 'recipe_seq', temp)"
   ]
  },
  {
   "cell_type": "code",
   "execution_count": 465,
   "metadata": {},
   "outputs": [
    {
     "name": "stderr",
     "output_type": "stream",
     "text": [
      "/tmp/ipykernel_3480816/1385527983.py:1: SettingWithCopyWarning: \n",
      "A value is trying to be set on a copy of a slice from a DataFrame.\n",
      "Try using .loc[row_indexer,col_indexer] = value instead\n",
      "\n",
      "See the caveats in the documentation: https://pandas.pydata.org/pandas-docs/stable/user_guide/indexing.html#returning-a-view-versus-a-copy\n",
      "  tn2['new_seq'] = tn2['recipe_seq'] + \"[SEP]\" + tn2['tags'] + \"[SEP]\" + tn2['name']\n"
     ]
    }
   ],
   "source": [
    "\n",
    "tn2['new_seq'] = tn2['recipe_seq'] + \"[SEP]\" + tn2['tags'] + \"[SEP]\" + tn2['name']"
   ]
  },
  {
   "cell_type": "code",
   "execution_count": 467,
   "metadata": {},
   "outputs": [
    {
     "name": "stderr",
     "output_type": "stream",
     "text": [
      "/tmp/ipykernel_3480816/3574774114.py:1: SettingWithCopyWarning: \n",
      "A value is trying to be set on a copy of a slice from a DataFrame.\n",
      "Try using .loc[row_indexer,col_indexer] = value instead\n",
      "\n",
      "See the caveats in the documentation: https://pandas.pydata.org/pandas-docs/stable/user_guide/indexing.html#returning-a-view-versus-a-copy\n",
      "  tn2['new_seq'] = tn2['new_seq'].apply(lambda x: str(x))\n"
     ]
    }
   ],
   "source": [
    "\n",
    "tn2['new_seq'] = tn2['new_seq'].apply(lambda x: str(x))"
   ]
  },
  {
   "cell_type": "code",
   "execution_count": 469,
   "metadata": {},
   "outputs": [
    {
     "data": {
      "text/plain": [
       "'winter_squash olive_oil mexican_seasoning mixed_spice honey butter salt[SEP]60-minutes-or-less time-to-make course main-ingredient cuisine preparation occasion north-american side-dishes vegetables mexican easy fall holiday-event vegetarian winter dietary christmas seasonal squash[SEP]arriba   baked winter squash mexican style'"
      ]
     },
     "execution_count": 469,
     "metadata": {},
     "output_type": "execute_result"
    }
   ],
   "source": [
    "tn2['new_seq'][0]"
   ]
  },
  {
   "cell_type": "code",
   "execution_count": 470,
   "metadata": {},
   "outputs": [],
   "source": [
    "# train\n",
    "f = open('/home/jaesung/jaesung/research/recipetrend/preprocess/f10k_seq_train.txt', '+w')\n",
    "\n",
    "for v in tn2['new_seq'][:9000]:\n",
    "    f.write(v+'\\n')"
   ]
  },
  {
   "cell_type": "code",
   "execution_count": 471,
   "metadata": {},
   "outputs": [],
   "source": [
    "# val\n",
    "f = open('/home/jaesung/jaesung/research/recipetrend/preprocess/f10k_seq_val.txt', '+w')\n",
    "\n",
    "for v in tn2['new_seq'][9000:]:\n",
    "    f.write(v+'\\n')"
   ]
  },
  {
   "cell_type": "code",
   "execution_count": null,
   "metadata": {},
   "outputs": [],
   "source": []
  },
  {
   "cell_type": "code",
   "execution_count": 17,
   "metadata": {},
   "outputs": [
    {
     "data": {
      "text/html": [
       "<div>\n",
       "<style scoped>\n",
       "    .dataframe tbody tr th:only-of-type {\n",
       "        vertical-align: middle;\n",
       "    }\n",
       "\n",
       "    .dataframe tbody tr th {\n",
       "        vertical-align: top;\n",
       "    }\n",
       "\n",
       "    .dataframe thead th {\n",
       "        text-align: right;\n",
       "    }\n",
       "</style>\n",
       "<table border=\"1\" class=\"dataframe\">\n",
       "  <thead>\n",
       "    <tr style=\"text-align: right;\">\n",
       "      <th></th>\n",
       "      <th>Unnamed: 0</th>\n",
       "      <th>title</th>\n",
       "      <th>ingredients</th>\n",
       "      <th>directions</th>\n",
       "      <th>link</th>\n",
       "      <th>source</th>\n",
       "      <th>NER</th>\n",
       "    </tr>\n",
       "  </thead>\n",
       "  <tbody>\n",
       "    <tr>\n",
       "      <th>0</th>\n",
       "      <td>0</td>\n",
       "      <td>No-Bake Nut Cookies</td>\n",
       "      <td>[\"1 c. firmly packed brown sugar\", \"1/2 c. eva...</td>\n",
       "      <td>[\"In a heavy 2-quart saucepan, mix brown sugar...</td>\n",
       "      <td>www.cookbooks.com/Recipe-Details.aspx?id=44874</td>\n",
       "      <td>Gathered</td>\n",
       "      <td>[\"brown sugar\", \"milk\", \"vanilla\", \"nuts\", \"bu...</td>\n",
       "    </tr>\n",
       "    <tr>\n",
       "      <th>1</th>\n",
       "      <td>1</td>\n",
       "      <td>Jewell Ball'S Chicken</td>\n",
       "      <td>[\"1 small jar chipped beef, cut up\", \"4 boned ...</td>\n",
       "      <td>[\"Place chipped beef on bottom of baking dish....</td>\n",
       "      <td>www.cookbooks.com/Recipe-Details.aspx?id=699419</td>\n",
       "      <td>Gathered</td>\n",
       "      <td>[\"beef\", \"chicken breasts\", \"cream of mushroom...</td>\n",
       "    </tr>\n",
       "    <tr>\n",
       "      <th>2</th>\n",
       "      <td>2</td>\n",
       "      <td>Creamy Corn</td>\n",
       "      <td>[\"2 (16 oz.) pkg. frozen corn\", \"1 (8 oz.) pkg...</td>\n",
       "      <td>[\"In a slow cooker, combine all ingredients. C...</td>\n",
       "      <td>www.cookbooks.com/Recipe-Details.aspx?id=10570</td>\n",
       "      <td>Gathered</td>\n",
       "      <td>[\"frozen corn\", \"cream cheese\", \"butter\", \"gar...</td>\n",
       "    </tr>\n",
       "    <tr>\n",
       "      <th>3</th>\n",
       "      <td>3</td>\n",
       "      <td>Chicken Funny</td>\n",
       "      <td>[\"1 large whole chicken\", \"2 (10 1/2 oz.) cans...</td>\n",
       "      <td>[\"Boil and debone chicken.\", \"Put bite size pi...</td>\n",
       "      <td>www.cookbooks.com/Recipe-Details.aspx?id=897570</td>\n",
       "      <td>Gathered</td>\n",
       "      <td>[\"chicken\", \"chicken gravy\", \"cream of mushroo...</td>\n",
       "    </tr>\n",
       "    <tr>\n",
       "      <th>4</th>\n",
       "      <td>4</td>\n",
       "      <td>Reeses Cups(Candy)</td>\n",
       "      <td>[\"1 c. peanut butter\", \"3/4 c. graham cracker ...</td>\n",
       "      <td>[\"Combine first four ingredients and press in ...</td>\n",
       "      <td>www.cookbooks.com/Recipe-Details.aspx?id=659239</td>\n",
       "      <td>Gathered</td>\n",
       "      <td>[\"peanut butter\", \"graham cracker crumbs\", \"bu...</td>\n",
       "    </tr>\n",
       "  </tbody>\n",
       "</table>\n",
       "</div>"
      ],
      "text/plain": [
       "   Unnamed: 0                  title  \\\n",
       "0           0    No-Bake Nut Cookies   \n",
       "1           1  Jewell Ball'S Chicken   \n",
       "2           2            Creamy Corn   \n",
       "3           3          Chicken Funny   \n",
       "4           4   Reeses Cups(Candy)     \n",
       "\n",
       "                                         ingredients  \\\n",
       "0  [\"1 c. firmly packed brown sugar\", \"1/2 c. eva...   \n",
       "1  [\"1 small jar chipped beef, cut up\", \"4 boned ...   \n",
       "2  [\"2 (16 oz.) pkg. frozen corn\", \"1 (8 oz.) pkg...   \n",
       "3  [\"1 large whole chicken\", \"2 (10 1/2 oz.) cans...   \n",
       "4  [\"1 c. peanut butter\", \"3/4 c. graham cracker ...   \n",
       "\n",
       "                                          directions  \\\n",
       "0  [\"In a heavy 2-quart saucepan, mix brown sugar...   \n",
       "1  [\"Place chipped beef on bottom of baking dish....   \n",
       "2  [\"In a slow cooker, combine all ingredients. C...   \n",
       "3  [\"Boil and debone chicken.\", \"Put bite size pi...   \n",
       "4  [\"Combine first four ingredients and press in ...   \n",
       "\n",
       "                                              link    source  \\\n",
       "0   www.cookbooks.com/Recipe-Details.aspx?id=44874  Gathered   \n",
       "1  www.cookbooks.com/Recipe-Details.aspx?id=699419  Gathered   \n",
       "2   www.cookbooks.com/Recipe-Details.aspx?id=10570  Gathered   \n",
       "3  www.cookbooks.com/Recipe-Details.aspx?id=897570  Gathered   \n",
       "4  www.cookbooks.com/Recipe-Details.aspx?id=659239  Gathered   \n",
       "\n",
       "                                                 NER  \n",
       "0  [\"brown sugar\", \"milk\", \"vanilla\", \"nuts\", \"bu...  \n",
       "1  [\"beef\", \"chicken breasts\", \"cream of mushroom...  \n",
       "2  [\"frozen corn\", \"cream cheese\", \"butter\", \"gar...  \n",
       "3  [\"chicken\", \"chicken gravy\", \"cream of mushroo...  \n",
       "4  [\"peanut butter\", \"graham cracker crumbs\", \"bu...  "
      ]
     },
     "execution_count": 17,
     "metadata": {},
     "output_type": "execute_result"
    }
   ],
   "source": [
    "import pandas as pd \n",
    "\n",
    "food = pd.read_csv('/home/jaesung/jaesung/research/recipetrend/preprocess/RecipeNLG_dataset.csv')\n",
    "food.head()"
   ]
  },
  {
   "cell_type": "code",
   "execution_count": 27,
   "metadata": {},
   "outputs": [
    {
     "name": "stdout",
     "output_type": "stream",
     "text": [
      "[\"1 1/2 lb. round steak (1-inch thick), cut into strips\", \"1 can drained tomatoes, cut up (save liquid)\", \"1 3/4 c. water\", \"1/2 c. onions\", \"1 1/2 Tbsp. Worcestershire sauce\", \"2 green peppers, diced\", \"1/4 c. oil\"]\n",
      "[\"Roll steak strips in flour.\", \"Brown in skillet.\", \"Salt and pepper.\", \"Combine tomato liquid, water, onions and browned steak. Cover and simmer for one and a quarter hours.\", \"Uncover and stir in Worcestershire sauce.\", \"Add tomatoes, green peppers and simmer for 5 minutes.\", \"Serve over hot cooked rice.\"]\n",
      "[\"tomatoes\", \"water\", \"onions\", \"Worcestershire sauce\", \"green peppers\", \"oil\"]\n"
     ]
    }
   ],
   "source": [
    "k = 8\n",
    "print(food['ingredients'][k])\n",
    "print(food['directions'][k])\n",
    "print(food['NER'][k])"
   ]
  },
  {
   "cell_type": "code",
   "execution_count": null,
   "metadata": {},
   "outputs": [],
   "source": []
  }
 ],
 "metadata": {
  "kernelspec": {
   "display_name": "ksc_kernel",
   "language": "python",
   "name": "ksc"
  },
  "language_info": {
   "codemirror_mode": {
    "name": "ipython",
    "version": 3
   },
   "file_extension": ".py",
   "mimetype": "text/x-python",
   "name": "python",
   "nbconvert_exporter": "python",
   "pygments_lexer": "ipython3",
   "version": "3.11.5"
  }
 },
 "nbformat": 4,
 "nbformat_minor": 2
}
